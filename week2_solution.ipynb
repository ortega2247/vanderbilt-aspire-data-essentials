{
 "cells": [
  {
   "cell_type": "markdown",
   "metadata": {},
   "source": [
    "# 1)Create a DataFrame, hospice_df, from the hospice CSV file"
   ]
  },
  {
   "cell_type": "code",
   "execution_count": 1,
   "metadata": {},
   "outputs": [],
   "source": [
    "import pandas as pd"
   ]
  },
  {
   "cell_type": "code",
   "execution_count": 2,
   "metadata": {},
   "outputs": [],
   "source": [
    "hospice_df = pd.read_csv('data/Hospice_General_Information.csv')"
   ]
  },
  {
   "cell_type": "code",
   "execution_count": 3,
   "metadata": {},
   "outputs": [],
   "source": [
    "# Keep only the rows where facilities are in TN.\n",
    "hospice_tn = hospice_df[hospice_df['State'] == 'TN']"
   ]
  },
  {
   "cell_type": "code",
   "execution_count": 4,
   "metadata": {},
   "outputs": [],
   "source": [
    "# Keep only the Facility Name, Address Line 1, City, State, County Name, CMS Region, \n",
    "# Ownership Type, and Cerfification Date columns. \n",
    "\n",
    "hospice_ready = hospice_tn.drop(['CMS Certification Number (CCN)', 'Address Line 2', \n",
    "                 'Zip Code', 'PhoneNumber'], axis=1)"
   ]
  },
  {
   "cell_type": "code",
   "execution_count": 5,
   "metadata": {},
   "outputs": [],
   "source": [
    "# Make all column names lower case and without spaces.\n",
    "def lower_nospace(words):\n",
    "    new_word = words.replace(\" \", \"\")\n",
    "    new_word = new_word.lower()\n",
    "    return new_word\n",
    "\n",
    "hospice_ready.rename(lower_nospace, axis='columns', inplace=True)"
   ]
  },
  {
   "cell_type": "code",
   "execution_count": 6,
   "metadata": {},
   "outputs": [
    {
     "name": "stdout",
     "output_type": "stream",
     "text": [
      "                            facilityname                       addressline1  \\\n",
      "2889                   ALIVE HOSPICE INC                1718 PATTERSON ROAD   \n",
      "2890          METHODIST ALLIANCE HOSPICE  6400 SHELBY VIEW DRIVE, SUITE 101   \n",
      "2891          HOSPICE OF CHATTANOOGA INC                 4411 OAKWOOD DRIVE   \n",
      "2892               AMEDISYS HOSPICE CARE          6570 STAGE ROAD SUITE 110   \n",
      "2893  NORTHCREST HOME HEALTH AND HOSPICE               212 NORTHCREST DRIVE   \n",
      "\n",
      "             city state countyname  cmsregion ownershiptype certificationdate  \n",
      "2889    NASHVILLE    TN   Davidson          4    Non-Profit        04/10/1984  \n",
      "2890      MEMPHIS    TN     Shelby          4    Non-Profit        08/31/1984  \n",
      "2891  CHATTANOOGA    TN   Hamilton          4    Non-Profit        06/30/1986  \n",
      "2892     BARTLETT    TN     Shelby          4    For-Profit        02/09/1987  \n",
      "2893  SPRINGFIELD    TN  Robertson          4         Other        07/13/1987  \n",
      "\n",
      "\n",
      "\n",
      "\n",
      "                              facilityname                   addressline1  \\\n",
      "2940        ENCOMPASS HOSPICE OF TENNESSEE    828 ROYAL PARKWAY SUITE 113   \n",
      "2941                       QUALITY HOSPICE        341 WEST CENTRAL AVENUE   \n",
      "2942                        HEARTH HOSPICE  1800A ROSSVILLE AVE SUITE 114   \n",
      "2943  AMEDISYS HOSPICE, AN ADVENTA COMPANY              400 ROYAL PARKWAY   \n",
      "2944                       KINDRED HOSPICE        430 STUART RD NE, STE 2   \n",
      "\n",
      "             city state countyname  cmsregion ownershiptype certificationdate  \n",
      "2940    NASHVILLE    TN   Davidson          4    For-Profit        06/16/2010  \n",
      "2941    JAMESTOWN    TN   Fentress          4    For-Profit        01/04/2013  \n",
      "2942  CHATTANOOGA    TN   Hamilton          4    For-Profit        03/22/2013  \n",
      "2943    NASHVILLE    TN   Davidson          4         Other        01/05/2016  \n",
      "2944    CLEVELAND    TN    Bradley          4    For-Profit        01/04/2017  \n"
     ]
    }
   ],
   "source": [
    "# Examine the first 5 rows and the last five rows of the TN hospice data.\n",
    "print(hospice_ready.head())\n",
    "print('\\n')\n",
    "print('\\n')\n",
    "print(hospice_ready.tail())"
   ]
  },
  {
   "cell_type": "code",
   "execution_count": 7,
   "metadata": {},
   "outputs": [
    {
     "name": "stdout",
     "output_type": "stream",
     "text": [
      "(56, 8)\n"
     ]
    }
   ],
   "source": [
    "# Print the dimensions of the data. How many hospice facilities are in TN?\n",
    "print(hospice_ready.shape)"
   ]
  },
  {
   "cell_type": "code",
   "execution_count": 8,
   "metadata": {},
   "outputs": [
    {
     "data": {
      "text/plain": [
       "False"
      ]
     },
     "execution_count": 8,
     "metadata": {},
     "output_type": "execute_result"
    }
   ],
   "source": [
    "hospice_ready.isnull().values.any()"
   ]
  },
  {
   "cell_type": "markdown",
   "metadata": {},
   "source": [
    "## There are 56 facilities in TN"
   ]
  },
  {
   "cell_type": "markdown",
   "metadata": {},
   "source": [
    "# 2)Create a DataFrame, cancer_df, from the cancer CSV file."
   ]
  },
  {
   "cell_type": "code",
   "execution_count": 9,
   "metadata": {},
   "outputs": [],
   "source": [
    "cancer_df = pd.read_csv('data/cancer_deaths.csv', skiprows=4, skipfooter=14,\n",
    "                        engine='python')"
   ]
  },
  {
   "cell_type": "code",
   "execution_count": 10,
   "metadata": {},
   "outputs": [
    {
     "name": "stdout",
     "output_type": "stream",
     "text": [
      "             County   FIPS Met Healthy People Objective of 161.4?  \\\n",
      "0         Tennessee  47999                                     No   \n",
      "1     United States      0                                     No   \n",
      "2  Trousdale County  47169                                     No   \n",
      "3      Scott County  47151                                     No   \n",
      "4   Cheatham County  47021                                     No   \n",
      "\n",
      "   Age-Adjusted Death Rate - deaths per 100,000  \\\n",
      "0                                         185.4   \n",
      "1                                         163.5   \n",
      "2                                         265.5   \n",
      "3                                         241.0   \n",
      "4                                         239.6   \n",
      "\n",
      "   Lower 95% Confidence Interval  Upper 95% Confidence Interval  \\\n",
      "0                          184.0                          186.8   \n",
      "1                          163.3                          163.7   \n",
      "2                          219.0                          319.1   \n",
      "3                          214.5                          270.0   \n",
      "4                          217.8                          263.0   \n",
      "\n",
      "   Average Annual Count Recent Trend  Recent 5-Year Trend in Death Rates  \\\n",
      "0                 13933      falling                                -1.4   \n",
      "1                586354      falling                                -1.5   \n",
      "2                    24       stable                                 0.0   \n",
      "3                    63       stable                                -0.5   \n",
      "4                    97       stable                                -0.6   \n",
      "\n",
      "   Lower 95% Confidence Interval.1  Upper 95% Confidence Interval.1  \n",
      "0                             -1.5                             -1.2  \n",
      "1                             -1.6                             -1.5  \n",
      "2                             -1.3                              1.3  \n",
      "3                             -1.1                              0.1  \n",
      "4                             -1.4                              0.3  \n",
      "\n",
      "\n",
      "\n",
      "\n",
      "               County   FIPS Met Healthy People Objective of 161.4?  \\\n",
      "92   Van Buren County  47175                                    Yes   \n",
      "93     Pickett County  47137                                    Yes   \n",
      "94     Fayette County  47047                                    Yes   \n",
      "95  Williamson County  47187                                    Yes   \n",
      "96       Moore County  47127                                    Yes   \n",
      "\n",
      "    Age-Adjusted Death Rate - deaths per 100,000  \\\n",
      "92                                         160.3   \n",
      "93                                         158.7   \n",
      "94                                         154.3   \n",
      "95                                         127.2   \n",
      "96                                         123.2   \n",
      "\n",
      "    Lower 95% Confidence Interval  Upper 95% Confidence Interval  \\\n",
      "92                          122.7                          207.4   \n",
      "93                          123.3                          203.9   \n",
      "94                          139.1                          170.7   \n",
      "95                          119.8                          134.9   \n",
      "96                           93.9                          160.5   \n",
      "\n",
      "    Average Annual Count Recent Trend  Recent 5-Year Trend in Death Rates  \\\n",
      "92                    14       stable                                -0.9   \n",
      "93                    15       stable                                -0.5   \n",
      "94                    81      falling                                -1.4   \n",
      "95                   239      falling                                -3.8   \n",
      "96                    12      falling                                -2.1   \n",
      "\n",
      "    Lower 95% Confidence Interval.1  Upper 95% Confidence Interval.1  \n",
      "92                             -2.4                              0.6  \n",
      "93                             -1.8                              0.9  \n",
      "94                             -2.2                             -0.5  \n",
      "95                             -4.8                             -2.9  \n",
      "96                             -3.8                             -0.4  \n"
     ]
    }
   ],
   "source": [
    "# Look at the head and tail of the DataFrame.\n",
    "\n",
    "print(cancer_df.head())\n",
    "print('\\n')\n",
    "print('\\n')\n",
    "print(cancer_df.tail())"
   ]
  },
  {
   "cell_type": "code",
   "execution_count": 11,
   "metadata": {},
   "outputs": [
    {
     "name": "stdout",
     "output_type": "stream",
     "text": [
      "(97, 11)\n"
     ]
    }
   ],
   "source": [
    "# Print the shape of the cancer data.\n",
    "print(cancer_df.shape)"
   ]
  },
  {
   "cell_type": "code",
   "execution_count": 12,
   "metadata": {},
   "outputs": [
    {
     "data": {
      "text/plain": [
       "False"
      ]
     },
     "execution_count": 12,
     "metadata": {},
     "output_type": "execute_result"
    }
   ],
   "source": [
    "cancer_df.isnull().values.any()"
   ]
  },
  {
   "cell_type": "markdown",
   "metadata": {},
   "source": [
    "# 3)Create a DataFrame, pop_df, from the census CSV file."
   ]
  },
  {
   "cell_type": "code",
   "execution_count": 13,
   "metadata": {},
   "outputs": [],
   "source": [
    "# Look at the head and the tail\n",
    "pop_df = pd.read_csv('data/PEP_2017_PEPAGESEX.csv', skiprows=1)"
   ]
  },
  {
   "cell_type": "code",
   "execution_count": 14,
   "metadata": {},
   "outputs": [
    {
     "name": "stdout",
     "output_type": "stream",
     "text": [
      "               Id    Id2                   Geography  \\\n",
      "0  0500000US47001  47001  Anderson County, Tennessee   \n",
      "1  0500000US47003  47003   Bedford County, Tennessee   \n",
      "2  0500000US47005  47005    Benton County, Tennessee   \n",
      "3  0500000US47007  47007   Bledsoe County, Tennessee   \n",
      "4  0500000US47009  47009    Blount County, Tennessee   \n",
      "\n",
      "   April 1, 2010 - Census - Both Sexes; Total  \\\n",
      "0                                       75129   \n",
      "1                                       45058   \n",
      "2                                       16489   \n",
      "3                                       12876   \n",
      "4                                      123010   \n",
      "\n",
      "   April 1, 2010 - Census - Male; Total  \\\n",
      "0                                 36308   \n",
      "1                                 22357   \n",
      "2                                  8073   \n",
      "3                                  6964   \n",
      "4                                 59559   \n",
      "\n",
      "   April 1, 2010 - Census - Female; Total  \\\n",
      "0                                   38821   \n",
      "1                                   22701   \n",
      "2                                    8416   \n",
      "3                                    5912   \n",
      "4                                   63451   \n",
      "\n",
      "   April 1, 2010 - Estimates Base - Both Sexes; Total  \\\n",
      "0                                              75094    \n",
      "1                                              45056    \n",
      "2                                              16491    \n",
      "3                                              12872    \n",
      "4                                             123100    \n",
      "\n",
      "   April 1, 2010 - Estimates Base - Male; Total  \\\n",
      "0                                         36288   \n",
      "1                                         22356   \n",
      "2                                          8074   \n",
      "3                                          6962   \n",
      "4                                         59596   \n",
      "\n",
      "   April 1, 2010 - Estimates Base - Female; Total  \\\n",
      "0                                           38806   \n",
      "1                                           22700   \n",
      "2                                            8417   \n",
      "3                                            5910   \n",
      "4                                           63504   \n",
      "\n",
      "   Population Estimate (as of July 1) - 2010 - Both Sexes; Total  \\\n",
      "0                                              75112               \n",
      "1                                              45086               \n",
      "2                                              16511               \n",
      "3                                              12882               \n",
      "4                                             123213               \n",
      "\n",
      "                                    ...                                    \\\n",
      "0                                   ...                                     \n",
      "1                                   ...                                     \n",
      "2                                   ...                                     \n",
      "3                                   ...                                     \n",
      "4                                   ...                                     \n",
      "\n",
      "   Population Estimate (as of July 1) - 2014 - Females; Median age (years)  \\\n",
      "0                                               44.8                         \n",
      "1                                               38.4                         \n",
      "2                                               48.3                         \n",
      "3                                               46.3                         \n",
      "4                                               44.1                         \n",
      "\n",
      "   Population Estimate (as of July 1) - 2015 - Both Sexes; Median age (years)  \\\n",
      "0                                               43.3                            \n",
      "1                                               37.2                            \n",
      "2                                               46.6                            \n",
      "3                                               43.4                            \n",
      "4                                               43.4                            \n",
      "\n",
      "   Population Estimate (as of July 1) - 2015 - Male; Median age (years)  \\\n",
      "0                                               41.4                      \n",
      "1                                               35.9                      \n",
      "2                                               45.2                      \n",
      "3                                               41.7                      \n",
      "4                                               42.1                      \n",
      "\n",
      "   Population Estimate (as of July 1) - 2015 - Female; Median age (years)  \\\n",
      "0                                               44.8                        \n",
      "1                                               38.5                        \n",
      "2                                               48.0                        \n",
      "3                                               46.5                        \n",
      "4                                               44.5                        \n",
      "\n",
      "   Population Estimate (as of July 1) - 2016 - Both Sexes; Median age (years)  \\\n",
      "0                                               43.3                            \n",
      "1                                               37.5                            \n",
      "2                                               47.1                            \n",
      "3                                               43.5                            \n",
      "4                                               43.7                            \n",
      "\n",
      "   Population Estimate (as of July 1) - 2016 - Male; Median age (years)  \\\n",
      "0                                               41.5                      \n",
      "1                                               36.2                      \n",
      "2                                               45.7                      \n",
      "3                                               41.9                      \n",
      "4                                               42.2                      \n",
      "\n",
      "   Population Estimate (as of July 1) - 2016 - Female; Median age (years)  \\\n",
      "0                                               45.1                        \n",
      "1                                               38.8                        \n",
      "2                                               48.4                        \n",
      "3                                               46.4                        \n",
      "4                                               44.9                        \n",
      "\n",
      "   Population Estimate (as of July 1) - 2017 - Both Sexes; Median age (years)  \\\n",
      "0                                               43.2                            \n",
      "1                                               37.5                            \n",
      "2                                               47.4                            \n",
      "3                                               43.9                            \n",
      "4                                               43.8                            \n",
      "\n",
      "   Population Estimate (as of July 1) - 2017 - Male; Median age (years)  \\\n",
      "0                                               41.2                      \n",
      "1                                               36.2                      \n",
      "2                                               46.0                      \n",
      "3                                               42.1                      \n",
      "4                                               42.3                      \n",
      "\n",
      "   Population Estimate (as of July 1) - 2017 - Female; Median age (years)  \n",
      "0                                               45.0                       \n",
      "1                                               38.9                       \n",
      "2                                               48.7                       \n",
      "3                                               47.3                       \n",
      "4                                               45.1                       \n",
      "\n",
      "[5 rows x 993 columns]\n",
      "\n",
      "\n",
      "\n",
      "\n",
      "                Id    Id2                     Geography  \\\n",
      "90  0500000US47181  47181       Wayne County, Tennessee   \n",
      "91  0500000US47183  47183     Weakley County, Tennessee   \n",
      "92  0500000US47185  47185       White County, Tennessee   \n",
      "93  0500000US47187  47187  Williamson County, Tennessee   \n",
      "94  0500000US47189  47189      Wilson County, Tennessee   \n",
      "\n",
      "    April 1, 2010 - Census - Both Sexes; Total  \\\n",
      "90                                       17021   \n",
      "91                                       35021   \n",
      "92                                       25841   \n",
      "93                                      183182   \n",
      "94                                      113993   \n",
      "\n",
      "    April 1, 2010 - Census - Male; Total  \\\n",
      "90                                  9402   \n",
      "91                                 17159   \n",
      "92                                 12640   \n",
      "93                                 89336   \n",
      "94                                 55834   \n",
      "\n",
      "    April 1, 2010 - Census - Female; Total  \\\n",
      "90                                    7619   \n",
      "91                                   17862   \n",
      "92                                   13201   \n",
      "93                                   93846   \n",
      "94                                   58159   \n",
      "\n",
      "    April 1, 2010 - Estimates Base - Both Sexes; Total  \\\n",
      "90                                              17027    \n",
      "91                                              35015    \n",
      "92                                              25836    \n",
      "93                                             183252    \n",
      "94                                             114057    \n",
      "\n",
      "    April 1, 2010 - Estimates Base - Male; Total  \\\n",
      "90                                          9404   \n",
      "91                                         17157   \n",
      "92                                         12637   \n",
      "93                                         89371   \n",
      "94                                         55863   \n",
      "\n",
      "    April 1, 2010 - Estimates Base - Female; Total  \\\n",
      "90                                            7623   \n",
      "91                                           17858   \n",
      "92                                           13199   \n",
      "93                                           93881   \n",
      "94                                           58194   \n",
      "\n",
      "    Population Estimate (as of July 1) - 2010 - Both Sexes; Total  \\\n",
      "90                                              16987               \n",
      "91                                              35042               \n",
      "92                                              25821               \n",
      "93                                             184130               \n",
      "94                                             114677               \n",
      "\n",
      "                                     ...                                    \\\n",
      "90                                   ...                                     \n",
      "91                                   ...                                     \n",
      "92                                   ...                                     \n",
      "93                                   ...                                     \n",
      "94                                   ...                                     \n",
      "\n",
      "    Population Estimate (as of July 1) - 2014 - Females; Median age (years)  \\\n",
      "90                                               45.8                         \n",
      "91                                               39.2                         \n",
      "92                                               44.0                         \n",
      "93                                               39.7                         \n",
      "94                                               41.1                         \n",
      "\n",
      "    Population Estimate (as of July 1) - 2015 - Both Sexes; Median age (years)  \\\n",
      "90                                               42.6                            \n",
      "91                                               37.6                            \n",
      "92                                               42.7                            \n",
      "93                                               39.0                            \n",
      "94                                               40.2                            \n",
      "\n",
      "    Population Estimate (as of July 1) - 2015 - Male; Median age (years)  \\\n",
      "90                                               39.8                      \n",
      "91                                               36.0                      \n",
      "92                                               41.0                      \n",
      "93                                               38.2                      \n",
      "94                                               39.2                      \n",
      "\n",
      "    Population Estimate (as of July 1) - 2015 - Female; Median age (years)  \\\n",
      "90                                               46.5                        \n",
      "91                                               39.2                        \n",
      "92                                               44.2                        \n",
      "93                                               39.7                        \n",
      "94                                               41.1                        \n",
      "\n",
      "    Population Estimate (as of July 1) - 2016 - Both Sexes; Median age (years)  \\\n",
      "90                                               42.7                            \n",
      "91                                               37.9                            \n",
      "92                                               42.8                            \n",
      "93                                               39.0                            \n",
      "94                                               40.0                            \n",
      "\n",
      "    Population Estimate (as of July 1) - 2016 - Male; Median age (years)  \\\n",
      "90                                               39.9                      \n",
      "91                                               36.2                      \n",
      "92                                               41.2                      \n",
      "93                                               38.3                      \n",
      "94                                               39.0                      \n",
      "\n",
      "    Population Estimate (as of July 1) - 2016 - Female; Median age (years)  \\\n",
      "90                                               46.7                        \n",
      "91                                               39.6                        \n",
      "92                                               44.3                        \n",
      "93                                               39.7                        \n",
      "94                                               40.9                        \n",
      "\n",
      "    Population Estimate (as of July 1) - 2017 - Both Sexes; Median age (years)  \\\n",
      "90                                               43.1                            \n",
      "91                                               38.3                            \n",
      "92                                               42.8                            \n",
      "93                                               39.0                            \n",
      "94                                               39.9                            \n",
      "\n",
      "    Population Estimate (as of July 1) - 2017 - Male; Median age (years)  \\\n",
      "90                                               40.0                      \n",
      "91                                               36.6                      \n",
      "92                                               41.3                      \n",
      "93                                               38.3                      \n",
      "94                                               39.0                      \n",
      "\n",
      "    Population Estimate (as of July 1) - 2017 - Female; Median age (years)  \n",
      "90                                               47.4                       \n",
      "91                                               40.1                       \n",
      "92                                               44.4                       \n",
      "93                                               39.7                       \n",
      "94                                               40.8                       \n",
      "\n",
      "[5 rows x 993 columns]\n"
     ]
    }
   ],
   "source": [
    "print(pop_df.head())\n",
    "print('\\n')\n",
    "print('\\n')\n",
    "print(pop_df.tail())"
   ]
  },
  {
   "cell_type": "code",
   "execution_count": 15,
   "metadata": {},
   "outputs": [
    {
     "name": "stdout",
     "output_type": "stream",
     "text": [
      "(95, 993)\n"
     ]
    }
   ],
   "source": [
    "print(pop_df.shape)"
   ]
  },
  {
   "cell_type": "code",
   "execution_count": 16,
   "metadata": {},
   "outputs": [
    {
     "data": {
      "text/plain": [
       "False"
      ]
     },
     "execution_count": 16,
     "metadata": {},
     "output_type": "execute_result"
    }
   ],
   "source": [
    "pop_df.isnull().values.any()"
   ]
  },
  {
   "cell_type": "code",
   "execution_count": null,
   "metadata": {},
   "outputs": [],
   "source": []
  }
 ],
 "metadata": {
  "kernelspec": {
   "display_name": "Python 3",
   "language": "python",
   "name": "python3"
  },
  "language_info": {
   "codemirror_mode": {
    "name": "ipython",
    "version": 3
   },
   "file_extension": ".py",
   "mimetype": "text/x-python",
   "name": "python",
   "nbconvert_exporter": "python",
   "pygments_lexer": "ipython3",
   "version": "3.7.0"
  }
 },
 "nbformat": 4,
 "nbformat_minor": 2
}
